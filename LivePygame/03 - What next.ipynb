{
 "cells": [
  {
   "cell_type": "markdown",
   "metadata": {},
   "source": [
    "What next? Well I am not sure where I am going with this. To continue with the theme \"This is probably a bad idea to do that with iPython\" I would like to implement a server/client architecture in our game.\n",
    "\n",
    "But first, I made a game02.py that we can import easily without having to re"
   ]
  }
 ],
 "metadata": {
  "kernelspec": {
   "display_name": "Python 3",
   "language": "python",
   "name": "python3"
  },
  "language_info": {
   "codemirror_mode": {
    "name": "ipython",
    "version": 3
   },
   "file_extension": ".py",
   "mimetype": "text/x-python",
   "name": "python",
   "nbconvert_exporter": "python",
   "pygments_lexer": "ipython3",
   "version": "3.6.2"
  }
 },
 "nbformat": 4,
 "nbformat_minor": 2
}
