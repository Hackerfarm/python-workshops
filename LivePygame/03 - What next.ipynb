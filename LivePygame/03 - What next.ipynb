{
 "cells": [
  {
   "cell_type": "markdown",
   "metadata": {},
   "source": [
    "What next? Well I am not sure where I am going with this. To continue with the theme \"This is probably a bad idea to do that with iPython\" I would like to implement a server/client architecture in our game.\n",
    "\n",
    "But first, I made a game02.py that we can import easily without having to recopy the whole file in the notebook. I will try to make a gameXX.py file at the end of each notebook."
   ]
  },
  {
   "cell_type": "code",
   "execution_count": 17,
   "metadata": {},
   "outputs": [],
   "source": [
    "from game02 import *"
   ]
  },
  {
   "cell_type": "code",
   "execution_count": 23,
   "metadata": {},
   "outputs": [],
   "source": [
    "game = Game()\n",
    "game.scene.append(Map())\n",
    "game.player = Character(100,100)\n",
    "game.scene.append(game.player)\n",
    "game.event_handlers[(('type',pygame.KEYDOWN),)] = game.player.handle_keydown\n",
    "\n",
    "\n",
    "th = threading.Thread(target = game.mainloop)\n",
    "th.start()"
   ]
  },
  {
   "cell_type": "markdown",
   "metadata": {},
   "source": [
    "Yay, it works!\n",
    "\n",
    "Before going into the network stuff, let's change a trivial detail: let's add some clothes to our character. At one point we will actually have two players, it is nice to be able to differentiate them.\n",
    "\n",
    "Let me introduce a nice little tool: [The Universal LPC Sprite Sheet Character Generator](http://gaurav.munjal.us/Universal-LPC-Spritesheet-Character-Generator/#). In 2013, some sponsors proposed money for the best open source 2D pixel art people could deliver and organized the Liberated Pixel Cup. As a result we got a huge stash of graphics we are free to use. This tool is one of the consequences of that.\n",
    "\n",
    "So I added two character sheets: [Zeetha](art/LPC/zeetha.png) and [Lex](art/LPC/lex.png). They are not the same size as the original [walk](art/LPC/walk.png) sheet so we will need to do some adaptations. Let's first separate the image loading from the `__init__` function and then let's find the good coordinates for these sheets."
   ]
  },
  {
   "cell_type": "code",
   "execution_count": 20,
   "metadata": {},
   "outputs": [],
   "source": [
    "def make_seq(self, img, x,y, ticks=80):\n",
    "    seq = list()\n",
    "    seq.append(ticks) # ticks per frame\n",
    "    for i in range(8):\n",
    "        seq.append(self.img.subsurface((x+i*64,y,64,64)))\n",
    "    return seq\n",
    "    \n",
    "def load_sequences(self, imgname):\n",
    "    self.img=pygame.image.load(imgname)\n",
    "    # Each animation is stored in the anim dict as a list with the following \n",
    "    # format: (tick_per_frame, frame1, frame2, ...)\n",
    "    \n",
    "    self.dirs={\"up\":(0,-0.5),\"down\":(0,0.5), \"right\":(1,0), \"left\":(-1,0)}\n",
    "    self.anim = dict()\n",
    "    self.cycle_index = 0\n",
    "    self.cycle_tick = 0\n",
    "\n",
    "    self.anim[\"up\"] = self.make_seq(self.img, 64, 8*64)\n",
    "    self.anim[\"left\"] = self.make_seq(self.img, 64, 9*64)\n",
    "    self.anim[\"down\"] = self.make_seq(self.img, 64, 10*64)\n",
    "    self.anim[\"right\"] = self.make_seq(self.img, 64, 11*64)\n",
    "\n",
    "def new_init(self, x,y, filename = \"art/LPC/lex.png\"):\n",
    "    self.load_sequences(filename)\n",
    "    self.current_anim = \"up\"\n",
    "    self.current_frames = self.anim[self.current_anim]\n",
    "    self.pos = [x,y]\n",
    "\n",
    "Character.__init__ = new_init\n",
    "Character.load_sequences = load_sequences\n",
    "Character.make_seq = make_seq\n",
    "game.refresh()"
   ]
  },
  {
   "cell_type": "code",
   "execution_count": 24,
   "metadata": {},
   "outputs": [],
   "source": [
    "game.refresh()\n",
    "game.player.load_sequences(\"art/LPC/zeetha.png\")"
   ]
  },
  {
   "cell_type": "markdown",
   "metadata": {},
   "source": []
  }
 ],
 "metadata": {
  "kernelspec": {
   "display_name": "Python 3",
   "language": "python",
   "name": "python3"
  },
  "language_info": {
   "codemirror_mode": {
    "name": "ipython",
    "version": 3
   },
   "file_extension": ".py",
   "mimetype": "text/x-python",
   "name": "python",
   "nbconvert_exporter": "python",
   "pygments_lexer": "ipython3",
   "version": "3.6.2"
  }
 },
 "nbformat": 4,
 "nbformat_minor": 2
}
