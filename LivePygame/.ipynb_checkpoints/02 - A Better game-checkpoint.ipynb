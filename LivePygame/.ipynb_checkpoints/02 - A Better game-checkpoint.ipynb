{
 "cells": [
  {
   "cell_type": "code",
   "execution_count": 3,
   "metadata": {
    "collapsed": true
   },
   "outputs": [],
   "source": [
    "import pygame, types, threading, traceback"
   ]
  },
  {
   "cell_type": "markdown",
   "metadata": {},
   "source": [
    "## Hey, let's code a better game!\n",
    "OK, I'm all for it. But first, we need to modify the main class in order to be able to handle events. Here is a way to do it:\n"
   ]
  },
  {
   "cell_type": "code",
   "execution_count": 4,
   "metadata": {
    "collapsed": false
   },
   "outputs": [],
   "source": [
    "class Game:\n",
    "    def __init__(self):\n",
    "        self.size = (500,500)\n",
    "        self.running = True\n",
    "        self.scene = list()\n",
    "        self.event_handlers = dict()\n",
    "        self.event_handlers[(('type',pygame.QUIT),)] = self.on_quit\n",
    "        self.event_handlers[(('type',pygame.KEYDOWN), ('key',pygame.K_q))] = self.on_quit\n",
    "        self.event_handlers[(('type',pygame.KEYDOWN), ('key',pygame.K_ESCAPE))] = self.on_quit\n",
    "        self.flipdelay=16\n",
    "        self.tickcounter=0\n",
    "        \n",
    "    def render(self):\n",
    "        self.disp.fill((0,0,0))\n",
    "        for obj in self.scene:\n",
    "            try:\n",
    "                obj.render(self.disp)\n",
    "            except Exception:\n",
    "                traceback.print_exc()\n",
    "                self.scene.remove(obj)\n",
    "                print(\"Exception during render: Object \"+str(obj)+\" removed from the scene\")\n",
    "        pygame.display.flip()\n",
    "\n",
    "    def update(self):\n",
    "            dt=pygame.time.get_ticks()- self.tickcounter\n",
    "            for obj in self.scene:\n",
    "                try:\n",
    "                    obj.update(dt)\n",
    "                except Exception:\n",
    "                    traceback.print_exc()\n",
    "                    self.scene.remove(obj)\n",
    "                    print(\"Exception during update: Object \"+str(obj)+\" removed from the scene\")\n",
    "            self.tickcounter=pygame.time.get_ticks()\n",
    "            pygame.time.delay(self.flipdelay)\n",
    "        \n",
    "\n",
    "        \n",
    "    def on_quit(self, event):\n",
    "        self.running = False\n",
    "        \n",
    "    def process_events(self):\n",
    "        for event in pygame.event.get():\n",
    "            dire = dir(event)\n",
    "            for eh in self.event_handlers.keys():\n",
    "                callit=True\n",
    "                for (attrname,attrvalue) in eh:\n",
    "                    if (not attrname in dire) or (event.__getattribute__(attrname)!=attrvalue):\n",
    "                        callit=False\n",
    "                        break\n",
    "                if callit:\n",
    "                    self.event_handlers[eh](event)\n",
    "        \n",
    "    def mainloop(self):\n",
    "        pygame.init()\n",
    "        self.disp=pygame.display.set_mode(self.size, pygame.HWSURFACE | pygame.DOUBLEBUF)\n",
    "        self.tickcounter=pygame.time.get_ticks()\n",
    "        while( self.running ):\n",
    "            try:\n",
    "                self.render()\n",
    "                self.process_events()\n",
    "                self.update()\n",
    "            except Exception:\n",
    "                traceback.print_exc()\n",
    "                pygame.time.delay(10000)\n",
    "        pygame.quit()"
   ]
  },
  {
   "cell_type": "markdown",
   "metadata": {},
   "source": [
    "OK, maybe I should explain a little there. We want a way to attribute a function to each possible event that the program may receive. Typically in a program that is where you would have a lot of if: elif: blocks. Here we want to be able to modify this attribution dynamically.\n",
    "\n",
    "So we make a dictionnary: events as keys and functions as values. The problem is that different events will have different attributes. The solution here is to use python's introspection abilities. We make a list of size 2 tuples that describe an attribute name and a value and we use the function __getattribute__ in order to check its value at runtime.\n",
    "\n",
    "If an entry of the dictionnary contains only criterions that the current event passes, its associated handler function is called, passing the event as an argument. That should cover all the cases we need.\n",
    "\n",
    "I also added some exception handling code so that when an object I added triggers an exception, instead of making the whole application crash, it just removes the object from the scene.\n"
   ]
  },
  {
   "cell_type": "code",
   "execution_count": 5,
   "metadata": {
    "collapsed": false
   },
   "outputs": [],
   "source": [
    "game = Game()\n",
    "th = threading.Thread(target = game.mainloop)\n",
    "th.start()"
   ]
  },
  {
   "cell_type": "markdown",
   "metadata": {},
   "source": [
    "All right, let's roll. I want to make a zelda-like game. Last time I attempted that with pygame, I remember that it was really slow to redisplay  the whole map every frame. Let's check that. I have a grass tile I can use (courtesy of Zabin, Hyptosis, and Danial Cook who put [this tileset](https://opengameart.org/content/castle-tiles-for-rpgs) in an open source license) :\n",
    "<img src=\"art/castle/grass.png\">"
   ]
  },
  {
   "cell_type": "code",
   "execution_count": 6,
   "metadata": {
    "collapsed": false
   },
   "outputs": [],
   "source": [
    "class Map:\n",
    "    def __init__(self):\n",
    "        # We will need to load some images and make a better Tile class later\n",
    "        # but now I just want to test the speed of the blit operation\n",
    "        self.tile = pygame.image.load('art/castle/grass.png')\n",
    "        self.avg_time=0.0\n",
    "        \n",
    "    def update(self, dt):\n",
    "        return\n",
    "    \n",
    "    def render(self, disp):\n",
    "        ta = pygame.time.get_ticks()\n",
    "        for y in range(0,500,32):\n",
    "            for x in range(0,500,32):\n",
    "                disp.blit(self.tile, (x,y))\n",
    "        self.avg_time = 0.9*self.avg_time + 0.1*float(pygame.time.get_ticks()-ta)\n",
    "        #print(pygame.time.get_ticks()-ta)\n",
    "        "
   ]
  },
  {
   "cell_type": "code",
   "execution_count": 44,
   "metadata": {
    "collapsed": false
   },
   "outputs": [],
   "source": [
    "# Tip: when trying different version of an object, just reset the scene list by uncommenting this:\n",
    "# game.scene = list()\n",
    "\n",
    "game.scene.append(Map())"
   ]
  },
  {
   "cell_type": "markdown",
   "metadata": {},
   "source": [
    "Perfect.\n"
   ]
  },
  {
   "cell_type": "code",
   "execution_count": 8,
   "metadata": {
    "collapsed": false
   },
   "outputs": [
    {
     "data": {
      "text/plain": [
       "4.0286275096389375"
      ]
     },
     "execution_count": 8,
     "metadata": {},
     "output_type": "execute_result"
    }
   ],
   "source": [
    "game.scene[0].avg_time"
   ]
  },
  {
   "cell_type": "markdown",
   "metadata": {},
   "source": [
    "Around 4 ms. That's actually pretty bad, but let's pretend it is ok for now.\n",
    "Now we have to add a character: <IMG src=\"art/LPC/walk.png\">\n",
    "\n",
    "In the pixel world, clothes are optional. I mean, seriously, they come as separate sprites so that the character can be fully customizable. This is a series of 64x64 sprites. Let's load and display a sequence."
   ]
  },
  {
   "cell_type": "code",
   "execution_count": 39,
   "metadata": {
    "collapsed": false
   },
   "outputs": [],
   "source": [
    "class Character:\n",
    "    def __init__(self, x, y):\n",
    "        self.img=pygame.image.load(\"art/LPC/walk.png\")\n",
    "        self.frames = list()\n",
    "        self.cycle_index = 0\n",
    "        self.cycle_tick = 0\n",
    "        self.cycle_tick_per_frame = 100\n",
    "        self.cycle_length = 7\n",
    "        for i in range(self.cycle_length):\n",
    "            self.frames.append(self.img.subsurface((64+i*64,0,64,64)))\n",
    "        self.pos = (x,y)\n",
    "        \n",
    "    def update(self, dt):\n",
    "        self.cycle_tick = (self.cycle_tick + dt) % (self.cycle_length*self.cycle_tick_per_frame)\n",
    "        self.cycle_index = int(self.cycle_tick/self.cycle_tick_per_frame)\n",
    "        pass\n",
    "        \n",
    "    def render(self, display):\n",
    "        display.blit(self.frames[self.cycle_index], (self.pos[0]+200, self.pos[1]))\n"
   ]
  },
  {
   "cell_type": "code",
   "execution_count": 43,
   "metadata": {
    "collapsed": false
   },
   "outputs": [],
   "source": [
    "#game.scene = list()"
   ]
  },
  {
   "cell_type": "code",
   "execution_count": 45,
   "metadata": {
    "collapsed": false
   },
   "outputs": [],
   "source": [
    "game.scene.append(Character(100,100))"
   ]
  },
  {
   "cell_type": "markdown",
   "metadata": {
    "collapsed": false
   },
   "source": [
    "Nice! Now we have an animated sprite in front of a map. Let's make it a bit smarter by loading all the 4 animations plus the 4 still frames. Then we will trigger animations with the key presses."
   ]
  },
  {
   "cell_type": "code",
   "execution_count": null,
   "metadata": {
    "collapsed": true
   },
   "outputs": [],
   "source": []
  },
  {
   "cell_type": "code",
   "execution_count": null,
   "metadata": {
    "collapsed": true
   },
   "outputs": [],
   "source": []
  }
 ],
 "metadata": {
  "kernelspec": {
   "display_name": "Python 3",
   "language": "python",
   "name": "python3"
  },
  "language_info": {
   "codemirror_mode": {
    "name": "ipython",
    "version": 3
   },
   "file_extension": ".py",
   "mimetype": "text/x-python",
   "name": "python",
   "nbconvert_exporter": "python",
   "pygments_lexer": "ipython3",
   "version": "3.5.3"
  }
 },
 "nbformat": 4,
 "nbformat_minor": 2
}
