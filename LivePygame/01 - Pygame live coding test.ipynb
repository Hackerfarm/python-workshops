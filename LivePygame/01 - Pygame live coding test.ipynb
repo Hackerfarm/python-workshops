{
 "cells": [
  {
   "cell_type": "markdown",
   "metadata": {},
   "source": [
    "# Live coding with pygame and ipython\n",
    "\n",
    "Since I have seen Notch livecode a game where he could change the code without restarting the binary, I was jealous of this kind of live programming. Actually, I was so envious that at the time I had made proofs of concept in C (not cross-platform, unforntunately) but never did anything out of it. I somehow suspected it should be much easier to do in Python.\n",
    "\n",
    "I recently had to reinstall IPython notebook. When I first tried it it was a bit buggy but I really wanted to do all my devs in this form. A scientist friend told me that it should probably be possible, but that it would be a bad idea for games. Hey, \"workable but bad idea\" sounds like half of my weekend projects!\n",
    "\n",
    "Let's see how to get there."
   ]
  },
  {
   "cell_type": "code",
   "execution_count": 5,
   "metadata": {},
   "outputs": [],
   "source": [
    "import pygame\n",
    "\n",
    "pygame.init()\n",
    "size = (500,500)\n",
    "disp=pygame.display.set_mode(size, pygame.HWSURFACE | pygame.DOUBLEBUF)\n",
    "running = True\n",
    "x=10\n",
    "y=20\n",
    "dirx=1\n",
    "color = (255,255,255)\n",
    "\n",
    "while( running ):\n",
    "    disp.fill((0, 0, 0))\n",
    "    pygame.draw.circle(disp, color, (x, y), 15)\n",
    "    pygame.display.flip()\n",
    "    for event in pygame.event.get():\n",
    "        if event.type == pygame.QUIT or event.type == pygame.KEYDOWN:\n",
    "            running = False\n",
    "    if x>500:\n",
    "        dirx=-1\n",
    "    if x<0:\n",
    "        dirx=1\n",
    "    x+=dirx\n",
    "    pygame.time.delay(5)\n",
    "pygame.quit()"
   ]
  },
  {
   "cell_type": "markdown",
   "metadata": {},
   "source": [
    "This was my first test. Just a circle bouncing left and right, an event loop that exits on any key press. My goal was to change the color of the ball without restarting the program, so I tried:"
   ]
  },
  {
   "cell_type": "code",
   "execution_count": 6,
   "metadata": {
    "collapsed": true
   },
   "outputs": [],
   "source": [
    "color = (255,0,0)"
   ]
  },
  {
   "cell_type": "markdown",
   "metadata": {},
   "source": [
    "But as you see, it becomes tagged as \"running\" but actually waits for the previous cell to finish executing to start running its code, and then exit. This is not what we want. \n",
    "\n",
    "The next step was to run the mainloop inside a thread instead:"
   ]
  },
  {
   "cell_type": "code",
   "execution_count": 7,
   "metadata": {},
   "outputs": [],
   "source": [
    "import threading\n",
    "\n",
    "pygame.init()\n",
    "size = (500,500)\n",
    "disp=pygame.display.set_mode(size, pygame.HWSURFACE | pygame.DOUBLEBUF)\n",
    "\n",
    "running = True\n",
    "x=10\n",
    "y=20\n",
    "dirx=1\n",
    "color = (255,0,0)\n",
    "\n",
    "def mainloop():\n",
    "    global running\n",
    "    global x,y,dirx,color\n",
    "    while( running ):\n",
    "        disp.fill((0, 0, 0))\n",
    "        pygame.draw.circle(disp, color, (x, y), 15)\n",
    "        pygame.display.flip()\n",
    "        for event in pygame.event.get():\n",
    "            if event.type == pygame.QUIT or event.type == pygame.KEYDOWN:\n",
    "                running = False\n",
    "        if x>500:\n",
    "            dirx=-1\n",
    "        if x<0:\n",
    "            dirx=1\n",
    "        x+=dirx\n",
    "    pygame.quit()\n",
    "\n",
    "th = threading.Thread(target = mainloop)\n",
    "th.start()"
   ]
  },
  {
   "cell_type": "markdown",
   "metadata": {},
   "source": [
    "I recommend resizing the notebook window to half the size of the screen and put the pygame display on the other half. And then, execute the next cell:"
   ]
  },
  {
   "cell_type": "code",
   "execution_count": 8,
   "metadata": {
    "collapsed": true
   },
   "outputs": [],
   "source": [
    "color = (255,0,0)"
   ]
  },
  {
   "cell_type": "code",
   "execution_count": 9,
   "metadata": {
    "collapsed": true
   },
   "outputs": [],
   "source": [
    "color = (0,255,0)"
   ]
  },
  {
   "cell_type": "markdown",
   "metadata": {
    "collapsed": true
   },
   "source": [
    "Bingo! It changed color in the same window! Now you probably have heard, or you may have the (sane) feeling that changing variables from one thread to the other is not the cleanest thing to do. And you are right, but python is famous for having a big problem when it comes to threading: the GIL (Global  Interpreter Lock) that actually prevents most operations to operate concurrently. \n",
    " \n",
    "This is a problem if you want to use parallelism to improve the performances of your program but in our case it allows us to read and write to the same objects accross threads relatively safely.\n",
    "\n",
    "## Let's make it more generic\n",
    "This is nice but for now it is still impossible to change the objects displayed or their behavior without restarting the program. Let's see if we can go further by creating a more classical game architecture: we will make the game logic very light and generic and create Ball objects that will be responsible for their own rendering and updating."
   ]
  },
  {
   "cell_type": "code",
   "execution_count": 10,
   "metadata": {
    "collapsed": true
   },
   "outputs": [],
   "source": [
    "import pygame\n",
    "import threading\n",
    "\n",
    "class Game:\n",
    "    def __init__(self):\n",
    "        self.size = (500,500)\n",
    "        self.running = True\n",
    "        self.scene = list()\n",
    "        \n",
    "    def render(self):\n",
    "        self.disp.fill((0,0,0))\n",
    "        for obj in self.scene:\n",
    "            obj.render(self.disp)\n",
    "        pygame.display.flip()\n",
    "\n",
    "        \n",
    "    def mainloop(self):\n",
    "        pygame.init()\n",
    "        self.disp=pygame.display.set_mode(self.size, pygame.HWSURFACE | pygame.DOUBLEBUF)\n",
    "        while( self.running ):\n",
    "            self.render()\n",
    "            for event in pygame.event.get():\n",
    "                if event.type == pygame.QUIT or event.type == pygame.KEYDOWN:\n",
    "                    self.running = False\n",
    "            for obj in self.scene:\n",
    "                obj.update()\n",
    "        pygame.quit()\n",
    "\n"
   ]
  },
  {
   "cell_type": "markdown",
   "metadata": {},
   "source": [
    "And let's simplify the game class to become very generic:"
   ]
  },
  {
   "cell_type": "code",
   "execution_count": 11,
   "metadata": {
    "collapsed": true
   },
   "outputs": [],
   "source": [
    "class Ball:\n",
    "    def __init__(self, x, y, color):\n",
    "        self.x = x\n",
    "        self.y = y\n",
    "        self.color = color\n",
    "        self.dirx=1\n",
    "        \n",
    "    def render(self, display):\n",
    "        pygame.draw.circle(display, self.color, (self.x, self.y), 20)\n",
    "        \n",
    "    def update(self):\n",
    "        if self.x>500:\n",
    "            self.dirx=-1\n",
    "        if self.x<0:\n",
    "            self.dirx=1\n",
    "        self.x+=self.dirx"
   ]
  },
  {
   "cell_type": "code",
   "execution_count": 12,
   "metadata": {
    "collapsed": true
   },
   "outputs": [],
   "source": [
    "game = Game()\n",
    "th = threading.Thread(target = game.mainloop)\n",
    "th.start()"
   ]
  },
  {
   "cell_type": "markdown",
   "metadata": {},
   "source": [
    "It looks like it is working. It shows an empty window, with no object, which is normal as we have added none. Let's try to add one:"
   ]
  },
  {
   "cell_type": "code",
   "execution_count": 13,
   "metadata": {
    "collapsed": true
   },
   "outputs": [],
   "source": [
    "game.scene.append(Ball(15,30,(255,255,255)))"
   ]
  },
  {
   "cell_type": "markdown",
   "metadata": {},
   "source": [
    "Victory! We can still change the characteristics of that object:"
   ]
  },
  {
   "cell_type": "code",
   "execution_count": 14,
   "metadata": {
    "collapsed": true
   },
   "outputs": [],
   "source": [
    "game.scene[0].color = (255,0,0)"
   ]
  },
  {
   "cell_type": "markdown",
   "metadata": {},
   "source": [
    "Or add some more:"
   ]
  },
  {
   "cell_type": "code",
   "execution_count": 15,
   "metadata": {
    "collapsed": true
   },
   "outputs": [],
   "source": [
    "game.scene.append(Ball(20,80,(0,0,255)))"
   ]
  },
  {
   "cell_type": "markdown",
   "metadata": {},
   "source": [
    "Now, can we define a different kind of object and add it without restarting the program?"
   ]
  },
  {
   "cell_type": "code",
   "execution_count": 16,
   "metadata": {
    "collapsed": true
   },
   "outputs": [],
   "source": [
    "class Ball2(Ball):\n",
    "    def __init__(self, x, y, color):\n",
    "        super().__init__( x, y, color)\n",
    "        \n",
    "    def update(self):\n",
    "        super().update()\n",
    "        self.y+=self.dirx"
   ]
  },
  {
   "cell_type": "code",
   "execution_count": 17,
   "metadata": {
    "collapsed": true
   },
   "outputs": [],
   "source": [
    "game.scene.append(Ball2(20,150,(255,255,0)))"
   ]
  },
  {
   "cell_type": "markdown",
   "metadata": {},
   "source": [
    "You bet we can!\n",
    "\n",
    "How about redefining the behavior of an already running object? Well it is possible, because in python, methods are actually considered like member variables that can be changed on the fly. One can change the method of a Class directly (and change the content of the method of the instances that will be instantiated in the future) and even change classes of instances, bringing the weird situation where some instances have different content in their methods.\n",
    "\n",
    "It is not really recommended but this is how to do it:"
   ]
  },
  {
   "cell_type": "code",
   "execution_count": 18,
   "metadata": {
    "collapsed": true
   },
   "outputs": [],
   "source": [
    "class Ball(Ball):\n",
    "    def update(self):\n",
    "        if self.x>500:\n",
    "            self.dirx=-1\n",
    "        if self.x<0:\n",
    "            self.dirx=1\n",
    "        self.x+=self.dirx\n",
    "        self.y+=self.dirx\n",
    "        \n",
    "        \n",
    "import types\n",
    "\n",
    "game.scene[0].update = types.MethodType(Ball.update, game.scene[0])"
   ]
  },
  {
   "cell_type": "markdown",
   "metadata": {},
   "source": [
    "\n"
   ]
  }
 ],
 "metadata": {
  "kernelspec": {
   "display_name": "Python 3",
   "language": "python",
   "name": "python3"
  },
  "language_info": {
   "codemirror_mode": {
    "name": "ipython",
    "version": 3
   },
   "file_extension": ".py",
   "mimetype": "text/x-python",
   "name": "python",
   "nbconvert_exporter": "python",
   "pygments_lexer": "ipython3",
   "version": "3.5.3"
  }
 },
 "nbformat": 4,
 "nbformat_minor": 2
}
