{
 "cells": [
  {
   "cell_type": "markdown",
   "metadata": {},
   "source": [
    "## Reading and writing files"
   ]
  },
  {
   "cell_type": "code",
   "execution_count": 6,
   "metadata": {},
   "outputs": [
    {
     "name": "stdout",
     "output_type": "stream",
     "text": [
      "<open file 'awanode-farmlab-2017-08-14.txt', mode 'r' at 0x7fea89cc3a50>\n"
     ]
    }
   ],
   "source": [
    "# We can create a file object and store it inside a variable.\n",
    "# you can see objects as a different type of data\n",
    "\n",
    "f=open(\"awanode-farmlab-2017-08-14.txt\")\n",
    "print(f)"
   ]
  },
  {
   "cell_type": "markdown",
   "metadata": {},
   "source": [
    "It says that the file is opened, reminds the filename and indicates that it is in mode 'r', which means 'read'\n",
    "\n",
    "You can call specific functions on an object with the syntax: \n",
    "\n",
    "`object.function()`\n",
    "\n",
    "Actually you already did this with lists and strings, for instance when doing `str.split(\" \")`"
   ]
  },
  {
   "cell_type": "code",
   "execution_count": 14,
   "metadata": {},
   "outputs": [],
   "source": [
    "f=open(\"awanode-farmlab-2017-08-14.txt\")\n",
    "# The read() function reads the content of a file and returns it in a (very long) string\n",
    "s=f.read()\n",
    "\n",
    "# Here we split the content of file by using a special character. The character \\ (antislash) indicates a special \n",
    "# character \\n is understood as a single character tthat means 'newline' \n",
    "# This will return an array of strings that are the lines of the file\n",
    "lines=s.split(\"\\n\")"
   ]
  },
  {
   "cell_type": "code",
   "execution_count": 13,
   "metadata": {},
   "outputs": [
    {
     "data": {
      "text/plain": [
       "''"
      ]
     },
     "execution_count": 13,
     "metadata": {},
     "output_type": "execute_result"
    }
   ],
   "source": [
    "s"
   ]
  },
  {
   "cell_type": "code",
   "execution_count": 15,
   "metadata": {},
   "outputs": [
    {
     "data": {
      "text/plain": [
       "['10-4-28 15:16:6|656|123=2593;0=24;124=90;122=4174;121=4587;\\r',\n",
       " '10-4-28 15:46:6|657|123=2593;0=24;124=90;122=4174;121=4535;\\r',\n",
       " '10-4-28 16:16:6|658|123=2587;0=23;124=90;122=4180;121=4445;\\r',\n",
       " '10-4-28 16:46:6|659|123=2587;0=23;124=89;122=4167;121=4438;\\r',\n",
       " '10-4-28 17:16:6|660|123=2581;0=23;124=90;122=4167;121=4432;\\r',\n",
       " '10-4-28 17:46:6|661|123=2575;0=23;124=90;122=4167;121=4432;\\r',\n",
       " '10-4-28 18:46:6|663|123=2562;0=23;124=90;122=4161;121=4406;\\r',\n",
       " '10-4-28 19:16:6|664|123=2556;0=22;124=91;122=4161;121=4361;\\r',\n",
       " '10-4-28 19:46:6|665|123=2543;0=22;124=91;122=4161;121=3574;\\r',\n",
       " '10-4-28 20:16:6|666|123=2537;0=22;124=91;122=4154;121=270;\\r']"
      ]
     },
     "execution_count": 15,
     "metadata": {},
     "output_type": "execute_result"
    }
   ],
   "source": [
    "# Let's peek at the first ten lines of the array\n",
    "lines[2000:2010]"
   ]
  },
  {
   "cell_type": "code",
   "execution_count": 16,
   "metadata": {},
   "outputs": [
    {
     "data": {
      "text/plain": [
       "'10-5-1 3:3:29|1098|123=2550;0=23;124=90;122=4090;121=0;\\r'"
      ]
     },
     "execution_count": 16,
     "metadata": {},
     "output_type": "execute_result"
    }
   ],
   "source": [
    "# Let's examine a random line\n",
    "l=lines[2401]\n",
    "l"
   ]
  },
  {
   "cell_type": "markdown",
   "metadata": {},
   "source": [
    "Let's talk a bit about the kind of files we are examining here. It is an example of bad design of file format but a good exercise for interpreting in python. It is a set of records that our sensor box made over the course of 10 days. Each line is a record.\n",
    "\n",
    "This line starts by a timestamp: 10th May 2001 (the clock was not setup appropriately) at 3:3:29. \n",
    "\n",
    "Then there is a sequence number, this is the 1098th packet emitted by the node since its last restart.\n",
    "\n",
    "Then there is a series of id=value elements that indicate the id of a sensor and the value read by the device. \n",
    "\n",
    "In the end there is a \\r special character that is a carriage return, which is another way of indicating the end of a line."
   ]
  },
  {
   "cell_type": "code",
   "execution_count": 17,
   "metadata": {},
   "outputs": [
    {
     "data": {
      "text/plain": [
       "'10-5-1 3:3:29|1098|123=2550;0=23;124=90;122=4090;121=0;'"
      ]
     },
     "execution_count": 17,
     "metadata": {},
     "output_type": "execute_result"
    }
   ],
   "source": [
    "# Let's start by removing the rubish (special characters, whitespace) at \n",
    "# the right of the string with the function rstrip()\n",
    "l = l.rstrip()\n",
    "l\n"
   ]
  },
  {
   "cell_type": "code",
   "execution_count": 18,
   "metadata": {},
   "outputs": [
    {
     "data": {
      "text/plain": [
       "'10-5-1 3:3:29;1098;123;2550;0;23;124;90;122;4090;121;0;'"
      ]
     },
     "execution_count": 18,
     "metadata": {},
     "output_type": "execute_result"
    }
   ],
   "source": [
    "# This kind of format is bad design because there are many types of \n",
    "# separators used | ; and = \n",
    "# Let's replace all of them with ;\n",
    "l = l.replace(\"|\",\";\")\n",
    "l = l.replace(\"=\",\";\")\n",
    "l"
   ]
  },
  {
   "cell_type": "code",
   "execution_count": 19,
   "metadata": {},
   "outputs": [
    {
     "data": {
      "text/plain": [
       "['10-5-1 3:3:29',\n",
       " '1098',\n",
       " '123',\n",
       " '2550',\n",
       " '0',\n",
       " '23',\n",
       " '124',\n",
       " '90',\n",
       " '122',\n",
       " '4090',\n",
       " '121',\n",
       " '0',\n",
       " '']"
      ]
     },
     "execution_count": 19,
     "metadata": {},
     "output_type": "execute_result"
    }
   ],
   "source": [
    "# Finally, let's split that in an array:\n",
    "l.split(\";\")"
   ]
  },
  {
   "cell_type": "code",
   "execution_count": 20,
   "metadata": {},
   "outputs": [
    {
     "data": {
      "text/plain": [
       "['10-5-1 3:3:29',\n",
       " '1098',\n",
       " '123',\n",
       " '2550',\n",
       " '0',\n",
       " '23',\n",
       " '124',\n",
       " '90',\n",
       " '122',\n",
       " '4090',\n",
       " '121',\n",
       " '0',\n",
       " '']"
      ]
     },
     "execution_count": 20,
     "metadata": {},
     "output_type": "execute_result"
    }
   ],
   "source": [
    "# Notice that we could have compressed all these `l = l.something()` lines \n",
    "# into a single line:\n",
    "l=lines[2401]\n",
    "l.rstrip().replace(\"|\",\";\").replace(\"=\",\";\").split(\";\")"
   ]
  },
  {
   "cell_type": "code",
   "execution_count": 22,
   "metadata": {},
   "outputs": [],
   "source": [
    "# We can also feed this array directly into variables using this convenient \n",
    "# syntax:\n",
    "a = l.rstrip().replace(\"|\",\";\").replace(\"=\",\";\").split(\";\")\n",
    "(time,num, id1,val1, id2,val2, id3,val3, id4,val4, id5,val5, e) = a"
   ]
  },
  {
   "cell_type": "code",
   "execution_count": 29,
   "metadata": {},
   "outputs": [
    {
     "data": {
      "text/plain": [
       "2550"
      ]
     },
     "execution_count": 29,
     "metadata": {},
     "output_type": "execute_result"
    }
   ],
   "source": [
    "int(val1)"
   ]
  },
  {
   "cell_type": "markdown",
   "metadata": {},
   "source": [
    "# Modules\n",
    "\n",
    "All programming languages have a way to import modules (they come by other names: libraries, DLLs, includes...). These are other programs that add functionalities to the language by giving access to new functions.\n",
    "\n",
    "In python, to import a library, all you need to do is: \n",
    "\n",
    "`import <library-name>`"
   ]
  },
  {
   "cell_type": "code",
   "execution_count": 30,
   "metadata": {
    "collapsed": true
   },
   "outputs": [],
   "source": [
    "# Let's try with a common library\n",
    "import math"
   ]
  },
  {
   "cell_type": "code",
   "execution_count": 31,
   "metadata": {},
   "outputs": [
    {
     "data": {
      "text/plain": [
       "3.0"
      ]
     },
     "execution_count": 31,
     "metadata": {},
     "output_type": "execute_result"
    }
   ],
   "source": [
    "# To call a modules' function, use this syntax:\n",
    "math.sqrt(9)"
   ]
  },
  {
   "cell_type": "code",
   "execution_count": 32,
   "metadata": {},
   "outputs": [
    {
     "data": {
      "text/plain": [
       "2.0"
      ]
     },
     "execution_count": 32,
     "metadata": {},
     "output_type": "execute_result"
    }
   ],
   "source": [
    "# If you are lazy, you can also import the library and give it a shorter name:\n",
    "import math as m\n",
    "m.sqrt(4)"
   ]
  },
  {
   "cell_type": "code",
   "execution_count": 33,
   "metadata": {},
   "outputs": [
    {
     "data": {
      "text/plain": [
       "2.23606797749979"
      ]
     },
     "execution_count": 33,
     "metadata": {},
     "output_type": "execute_result"
    }
   ],
   "source": [
    "# Sometime you prefer to import a single function or object from your library\n",
    "# In that case you specify it this way:\n",
    "from math import sqrt\n",
    "sqrt(5)"
   ]
  },
  {
   "cell_type": "code",
   "execution_count": null,
   "metadata": {
    "collapsed": true
   },
   "outputs": [],
   "source": []
  }
 ],
 "metadata": {
  "kernelspec": {
   "display_name": "Python 3",
   "language": "python",
   "name": "python3"
  },
  "language_info": {
   "codemirror_mode": {
    "name": "ipython",
    "version": 3
   },
   "file_extension": ".py",
   "mimetype": "text/x-python",
   "name": "python",
   "nbconvert_exporter": "python",
   "pygments_lexer": "ipython3",
   "version": "3.5.3"
  }
 },
 "nbformat": 4,
 "nbformat_minor": 2
}
