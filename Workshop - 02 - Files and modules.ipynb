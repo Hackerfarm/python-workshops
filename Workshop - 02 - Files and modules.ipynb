{
 "cells": [
  {
   "cell_type": "markdown",
   "metadata": {},
   "source": [
    "## Reading and writing files"
   ]
  },
  {
   "cell_type": "code",
   "execution_count": 1,
   "metadata": {
    "collapsed": false
   },
   "outputs": [
    {
     "name": "stdout",
     "output_type": "stream",
     "text": [
      "<_io.TextIOWrapper name='awanode-farmlab-2017-08-14.txt' mode='r' encoding='UTF-8'>\n"
     ]
    }
   ],
   "source": [
    "# We can create a file object and store it inside a variable.\n",
    "# you can see objects as a different type of data\n",
    "\n",
    "f=open(\"awanode-farmlab-2017-08-14.txt\")\n",
    "print(f)"
   ]
  },
  {
   "cell_type": "markdown",
   "metadata": {},
   "source": [
    "It says that the file is opened, reminds the filename and indicates that it is in mode 'r', which means 'read'\n",
    "\n",
    "You can call specific functions on an object with the syntax: \n",
    "\n",
    "`object.function()`\n",
    "\n",
    "Actually you already did this with lists and strings, for instance when doing `str.split(\" \")`"
   ]
  },
  {
   "cell_type": "code",
   "execution_count": 2,
   "metadata": {
    "collapsed": false
   },
   "outputs": [],
   "source": [
    "# The read() function reads the content of a file and returns it in a (very long) string\n",
    "s=f.read()\n",
    "\n",
    "# Here we split the content of file by using a special character. The character \\ (antislash) indicates a special \n",
    "# character \\n is understood as a single character tthat means 'newline' \n",
    "# This will return an array of strings that are the lines of the file\n",
    "lines=s.split(\"\\n\")"
   ]
  },
  {
   "cell_type": "code",
   "execution_count": 3,
   "metadata": {
    "collapsed": false
   },
   "outputs": [
    {
     "data": {
      "text/plain": [
       "['22=4193;121=245;',\n",
       " '1-0-1 8:30:36|2|123=2437;0=21;124=93;122=4187;121=238;',\n",
       " '1-0-1 9:0:6|3|123=2437;0=21;124=93;122=4187;121=6;',\n",
       " '1-0-1 10:0:6|5|123=2437;0=21;124=93;122=4187;121=6;',\n",
       " '1-0-1 10:30:6|6|123=2437;0=21;124=93;122=4187;121=6;',\n",
       " '1-0-1 11:0:6|7|123=2437;0=21;124=93;122=4187;121=6;',\n",
       " '1-0-1 11:30:6|8|123=2431;0=21;124=93;122=4187;121=6;',\n",
       " '1-0-1 12:0:6|9|123=2431;0=21;124=93;122=4187;121=6;',\n",
       " '1-0-1 12:30:6|10|123=2431;0=21;124=93;122=4187;121=6;',\n",
       " '1-0-1 13:0:6|11|123=2431;0=21;124=93;122=4187;121=6;']"
      ]
     },
     "execution_count": 3,
     "metadata": {},
     "output_type": "execute_result"
    }
   ],
   "source": [
    "# Let's peek at the first ten lines of the array\n",
    "lines[0:10]"
   ]
  },
  {
   "cell_type": "code",
   "execution_count": 6,
   "metadata": {
    "collapsed": false
   },
   "outputs": [
    {
     "data": {
      "text/plain": [
       "'10-5-1 3:3:29|1098|123=2550;0=23;124=90;122=4090;121=0;'"
      ]
     },
     "execution_count": 6,
     "metadata": {},
     "output_type": "execute_result"
    }
   ],
   "source": [
    "# Let's examine a random line\n",
    "l=lines[2401]\n",
    "l"
   ]
  },
  {
   "cell_type": "markdown",
   "metadata": {},
   "source": [
    "Let's talk a bit about the kind of files we are examining here. It is an example of bad design of file format but a good exercise for interpreting in python. It is a set of records that our sensor box made over the course of 10 days. Each line is a record.\n",
    "\n",
    "This line starts by a timestamp: 10th May 2001 (the clock was not setup appropriately) at 3:3:29. \n",
    "\n",
    "Then there is a sequence number, this is the 1098th packet emitted by the node since its last restart.\n",
    "\n",
    "Then there is a series of id=value elements that indicate the id of a sensor and the value read by the device. \n",
    "\n",
    "In the end there is a \\r special character that is a carriage return, which is another way of indicating the end of a line."
   ]
  },
  {
   "cell_type": "code",
   "execution_count": 7,
   "metadata": {
    "collapsed": false
   },
   "outputs": [
    {
     "data": {
      "text/plain": [
       "'10-5-1 3:3:29|1098|123=2550;0=23;124=90;122=4090;121=0;'"
      ]
     },
     "execution_count": 7,
     "metadata": {},
     "output_type": "execute_result"
    }
   ],
   "source": [
    "# Let's start by removing the rubish (special characters, whitespace) at \n",
    "# the right of the string with the function rstrip()\n",
    "l = l.rstrip()\n",
    "l\n"
   ]
  },
  {
   "cell_type": "code",
   "execution_count": 8,
   "metadata": {
    "collapsed": false
   },
   "outputs": [
    {
     "data": {
      "text/plain": [
       "'10-5-1 3:3:29;1098;123;2550;0;23;124;90;122;4090;121;0;'"
      ]
     },
     "execution_count": 8,
     "metadata": {},
     "output_type": "execute_result"
    }
   ],
   "source": [
    "# This kind of format is bad design because there are many types of \n",
    "# separators used | ; and = \n",
    "# Let's replace all of them with ;\n",
    "l = l.replace(\"|\",\";\")\n",
    "l = l.replace(\"=\",\";\")\n",
    "l"
   ]
  },
  {
   "cell_type": "code",
   "execution_count": 9,
   "metadata": {
    "collapsed": false
   },
   "outputs": [
    {
     "data": {
      "text/plain": [
       "['10-5-1 3:3:29',\n",
       " '1098',\n",
       " '123',\n",
       " '2550',\n",
       " '0',\n",
       " '23',\n",
       " '124',\n",
       " '90',\n",
       " '122',\n",
       " '4090',\n",
       " '121',\n",
       " '0',\n",
       " '']"
      ]
     },
     "execution_count": 9,
     "metadata": {},
     "output_type": "execute_result"
    }
   ],
   "source": [
    "# Finally, let's split that in an array:\n",
    "l.split(\";\")"
   ]
  },
  {
   "cell_type": "code",
   "execution_count": 10,
   "metadata": {
    "collapsed": false
   },
   "outputs": [
    {
     "data": {
      "text/plain": [
       "['10-5-1 3:3:29',\n",
       " '1098',\n",
       " '123',\n",
       " '2550',\n",
       " '0',\n",
       " '23',\n",
       " '124',\n",
       " '90',\n",
       " '122',\n",
       " '4090',\n",
       " '121',\n",
       " '0',\n",
       " '']"
      ]
     },
     "execution_count": 10,
     "metadata": {},
     "output_type": "execute_result"
    }
   ],
   "source": [
    "# Notice that we could have compressed all these `l = l.something()` lines \n",
    "# into a single line:\n",
    "l=lines[2401]\n",
    "l.rstrip().replace(\"|\",\";\").replace(\"=\",\";\").split(\";\")"
   ]
  },
  {
   "cell_type": "code",
   "execution_count": 11,
   "metadata": {
    "collapsed": false
   },
   "outputs": [],
   "source": [
    "# We can also feed this array directly into variables using this convenient \n",
    "# syntax:\n",
    "a = l.rstrip().replace(\"|\",\";\").replace(\"=\",\";\").split(\";\")\n",
    "(time,num, id1,val1, id2,val2, id3,val3, id4,val4, id5,val5, e) = a"
   ]
  },
  {
   "cell_type": "markdown",
   "metadata": {},
   "source": [
    "# Modules\n",
    "\n",
    "All programming languages have a way to import modules (they come by other names: libraries, DLLs, includes...). These are other programs that add functionalities to the language by giving access to new functions.\n",
    "\n",
    "In python, to import a library, all you need to do is: \n",
    "\n",
    "`import <library-name>`"
   ]
  },
  {
   "cell_type": "code",
   "execution_count": 12,
   "metadata": {
    "collapsed": true
   },
   "outputs": [],
   "source": [
    "# Let's try with a common library\n",
    "import math"
   ]
  },
  {
   "cell_type": "code",
   "execution_count": 13,
   "metadata": {
    "collapsed": false
   },
   "outputs": [
    {
     "data": {
      "text/plain": [
       "3.0"
      ]
     },
     "execution_count": 13,
     "metadata": {},
     "output_type": "execute_result"
    }
   ],
   "source": [
    "# To call a modules' function, use this syntax:\n",
    "math.sqrt(9)"
   ]
  },
  {
   "cell_type": "code",
   "execution_count": 14,
   "metadata": {
    "collapsed": false
   },
   "outputs": [
    {
     "data": {
      "text/plain": [
       "2.0"
      ]
     },
     "execution_count": 14,
     "metadata": {},
     "output_type": "execute_result"
    }
   ],
   "source": [
    "# If you are lazy, you can also import the library and give it a shorter name:\n",
    "import math as m\n",
    "m.sqrt(4)"
   ]
  },
  {
   "cell_type": "code",
   "execution_count": 15,
   "metadata": {
    "collapsed": false
   },
   "outputs": [
    {
     "data": {
      "text/plain": [
       "2.23606797749979"
      ]
     },
     "execution_count": 15,
     "metadata": {},
     "output_type": "execute_result"
    }
   ],
   "source": [
    "# Sometime you prefer to import a single function or object from your library\n",
    "# In that case you specify it this way:\n",
    "from math import sqrt\n",
    "sqrt(5)"
   ]
  },
  {
   "cell_type": "code",
   "execution_count": null,
   "metadata": {
    "collapsed": true
   },
   "outputs": [],
   "source": []
  }
 ],
 "metadata": {
  "kernelspec": {
   "display_name": "Python 3",
   "language": "python",
   "name": "python3"
  },
  "language_info": {
   "codemirror_mode": {
    "name": "ipython",
    "version": 3
   },
   "file_extension": ".py",
   "mimetype": "text/x-python",
   "name": "python",
   "nbconvert_exporter": "python",
   "pygments_lexer": "ipython3",
   "version": "3.5.3"
  }
 },
 "nbformat": 4,
 "nbformat_minor": 2
}
