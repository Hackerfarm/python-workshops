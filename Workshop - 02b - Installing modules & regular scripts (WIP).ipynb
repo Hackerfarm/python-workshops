{
 "cells": [
  {
   "cell_type": "markdown",
   "metadata": {},
   "source": [
    "# Miscelaneous utilities"
   ]
  },
  {
   "cell_type": "markdown",
   "metadata": {},
   "source": [
    "## Installing modules"
   ]
  },
  {
   "cell_type": "markdown",
   "metadata": {},
   "source": [
    "Command lines in Linux, OSX, Windows.\n",
    "Learn to start them"
   ]
  },
  {
   "cell_type": "markdown",
   "metadata": {},
   "source": [
    "Distribution install vs pip module install\n",
    "\n",
    "> pip\n",
    "or \n",
    "> python -m pip"
   ]
  },
  {
   "cell_type": "markdown",
   "metadata": {},
   "source": [
    "Python 3 & Python 2"
   ]
  },
  {
   "cell_type": "code",
   "execution_count": 1,
   "metadata": {},
   "outputs": [
    {
     "data": {
      "text/plain": [
       "'3.5.3 (default, Jan 19 2017, 14:11:04) \\n[GCC 6.3.0 20170118]'"
      ]
     },
     "execution_count": 1,
     "metadata": {},
     "output_type": "execute_result"
    }
   ],
   "source": [
    "import sys\n",
    "sys.version"
   ]
  },
  {
   "cell_type": "markdown",
   "metadata": {},
   "source": [
    "## Executing scripts"
   ]
  },
  {
   "cell_type": "markdown",
   "metadata": {},
   "source": [
    "Save a file. Use an editor: \n",
    "- Windows: notepad++\n",
    "- OSX: ?\n",
    "- Linux: gedit\n",
    "\n",
    "Bigger IDE: Pycharm\n",
    "\n",
    "Execute it with the command line:\n",
    "\n",
    "- Linux/OSX: cd/ls/tab\n",
    "- Windows: cd/dir/tab\n",
    "\n",
    "Killing scripts:\n",
    "\n",
    "Ctrl-C\n",
    "- Windows: taskman/taskmon/taskmgr\n",
    "- Linux: killall python/ps -fe/top/kill\n",
    "- OSX: ?"
   ]
  }
 ],
 "metadata": {
  "kernelspec": {
   "display_name": "Python 3",
   "language": "python",
   "name": "python3"
  },
  "language_info": {
   "codemirror_mode": {
    "name": "ipython",
    "version": 3
   },
   "file_extension": ".py",
   "mimetype": "text/x-python",
   "name": "python",
   "nbconvert_exporter": "python",
   "pygments_lexer": "ipython3",
   "version": "3.5.3"
  }
 },
 "nbformat": 4,
 "nbformat_minor": 2
}
