{
 "cells": [
  {
   "cell_type": "markdown",
   "metadata": {},
   "source": [
    "Hello, this is a markdown cell.\n",
    "It is made to write text. It provides very basic functionalities *italics* ,**bolds** \n",
    "\n",
    "* list\n",
    "* of \n",
    "* items\n",
    "\n",
    "and other fancy stuff like links, images and mathematical formulas:\n",
    "\n",
    "[link](https://www.fsf.org/campaigns/priority-projects/)\n",
    "\n",
    "![](https://www.python.org/static/opengraph-icon-200x200.png)\n",
    "\n",
    "$$c = \\sqrt{a^2 + b^2} $$\n"
   ]
  },
  {
   "cell_type": "code",
   "execution_count": 9,
   "metadata": {},
   "outputs": [
    {
     "name": "stdout",
     "output_type": "stream",
     "text": [
      "Hello\n"
     ]
    }
   ],
   "source": [
    "# This is a python cell\n",
    "# <- lines that start with a # are ignored and are called comments\n",
    "# Python cells are executed by pressing shift-enter\n",
    "print(\"Hello\")"
   ]
  },
  {
   "cell_type": "code",
   "execution_count": 6,
   "metadata": {},
   "outputs": [
    {
     "name": "stdout",
     "output_type": "stream",
     "text": [
      "Hello\n"
     ]
    }
   ],
   "source": [
    "# we can define variables on the fly and put stuff in them. Here we create a variable a\n",
    "a='Hello'\n",
    "print(a)"
   ]
  },
  {
   "cell_type": "code",
   "execution_count": 11,
   "metadata": {},
   "outputs": [
    {
     "name": "stdout",
     "output_type": "stream",
     "text": [
      "Hello\n"
     ]
    }
   ],
   "source": [
    "# What you put in variables is memorized from one cell to the other\n",
    "print(a)"
   ]
  },
  {
   "cell_type": "code",
   "execution_count": 12,
   "metadata": {},
   "outputs": [
    {
     "name": "stdout",
     "output_type": "stream",
     "text": [
      "Hi\n",
      "Hello\n",
      "Hi\n",
      "Hello\n",
      "Hi\n",
      "Hello\n",
      "Hi\n",
      "Hello\n",
      "Hi\n",
      "Hello\n",
      "Everybody !\n"
     ]
    }
   ],
   "source": [
    "for i in range(5):  # <- This is called a loop. Range(5) indicates we will execute it 5 times\n",
    "    print(\"Hi\")     # <- These two lines will be executed 5 times. Because they starts with an indentation (a 'tab'), \n",
    "    print(\"Hello\")  #    it means they are part of the loop\n",
    "print(\"Everybody !\")  # <- this one does not have indentation: the loop block is finished"
   ]
  },
  {
   "cell_type": "code",
   "execution_count": 13,
   "metadata": {},
   "outputs": [
    {
     "name": "stdout",
     "output_type": "stream",
     "text": [
      "0\n",
      "1\n",
      "2\n",
      "3\n",
      "4\n"
     ]
    }
   ],
   "source": [
    "# Actually the first line of the loop means that we will put the values \n",
    "# from 0 to 4 into a variable named 'i' as we execute the loop.\n",
    "# We can also use the content of this variable:\n",
    "for i in range(5):\n",
    "    print(i)"
   ]
  },
  {
   "cell_type": "code",
   "execution_count": null,
   "metadata": {
    "collapsed": true
   },
   "outputs": [],
   "source": []
  },
  {
   "cell_type": "code",
   "execution_count": 14,
   "metadata": {},
   "outputs": [
    {
     "name": "stdout",
     "output_type": "stream",
     "text": [
      "I knew it!\n"
     ]
    }
   ],
   "source": [
    "if 1+1==2:              # This is a (trivial) conditional statement\n",
    "    print(\"I knew it!\")"
   ]
  },
  {
   "cell_type": "code",
   "execution_count": 15,
   "metadata": {},
   "outputs": [
    {
     "name": "stdout",
     "output_type": "stream",
     "text": [
      "i equals 4\n"
     ]
    }
   ],
   "source": [
    "if i==3:\n",
    "    print(\"i equals 3\")\n",
    "if i==4:\n",
    "    print(\"i equals 4\")\n",
    "    "
   ]
  },
  {
   "cell_type": "code",
   "execution_count": 16,
   "metadata": {},
   "outputs": [
    {
     "name": "stdout",
     "output_type": "stream",
     "text": [
      "Ha!\n",
      "Ha!\n",
      "Ha!\n",
      "Ah!\n",
      "Ha!\n"
     ]
    }
   ],
   "source": [
    "# We can combine loops and conditionals\n",
    "\n",
    "for i in range(5):\n",
    "    if(i==3):\n",
    "        print(\"Ah!\")\n",
    "    else:\n",
    "        print(\"Ha!\")"
   ]
  },
  {
   "cell_type": "code",
   "execution_count": 17,
   "metadata": {},
   "outputs": [
    {
     "name": "stdout",
     "output_type": "stream",
     "text": [
      "<type 'int'>\n",
      "<type 'float'>\n",
      "<type 'str'>\n",
      "<type 'list'>\n",
      "\n",
      "<type 'int'>\n",
      "<type 'str'>\n"
     ]
    }
   ],
   "source": [
    "# There are many types in python but we are concerned with only 4 basic types now: strings, integers, floats and lists\n",
    "# you can check the type of something with the function type()\n",
    "\n",
    "print(type(12))\n",
    "print(type(12.5))\n",
    "print(type(\"Hello\"))\n",
    "print(type([]))\n",
    "print(\"\")          # This prints an empty line\n",
    "print(type(i))\n",
    "print(type(a))"
   ]
  },
  {
   "cell_type": "code",
   "execution_count": 18,
   "metadata": {},
   "outputs": [
    {
     "name": "stdout",
     "output_type": "stream",
     "text": [
      "[12, 4, 'Hello']\n"
     ]
    }
   ],
   "source": [
    "# You can also define lists in python. It is a convenient type that holds a list of stuff: integers, float, strings \n",
    "# or even other lists\n",
    "l = [12, i, \"Hello\"]\n",
    "print(l)"
   ]
  },
  {
   "cell_type": "code",
   "execution_count": 19,
   "metadata": {},
   "outputs": [
    {
     "name": "stdout",
     "output_type": "stream",
     "text": [
      "[12, 4, 'Hello', 8]\n",
      "[12, 4, 'Hello', 8, 'Hello']\n",
      "[12, 4, 'Hello', 8, 'Hello', [5, 1, 'Everyone']]\n"
     ]
    }
   ],
   "source": [
    "# You can append content to a list:\n",
    "l.append(8)\n",
    "print(l)\n",
    "l.append(a)\n",
    "print(l)\n",
    "l.append([5,1,\"Everyone\"])\n",
    "print(l)"
   ]
  },
  {
   "cell_type": "code",
   "execution_count": 20,
   "metadata": {},
   "outputs": [
    {
     "name": "stdout",
     "output_type": "stream",
     "text": [
      "Hello\n",
      "[5, 1, 'Everyone']\n"
     ]
    }
   ],
   "source": [
    "# To access an element of a list, specify its index:\n",
    "print(l[2])\n",
    "print(l[5])"
   ]
  },
  {
   "cell_type": "code",
   "execution_count": 21,
   "metadata": {},
   "outputs": [
    {
     "name": "stdout",
     "output_type": "stream",
     "text": [
      "Everyone\n"
     ]
    }
   ],
   "source": [
    "# In case of nested lists You can have several indices\n",
    "print(l[5][2])"
   ]
  },
  {
   "cell_type": "code",
   "execution_count": 22,
   "metadata": {},
   "outputs": [
    {
     "name": "stdout",
     "output_type": "stream",
     "text": [
      "l\n"
     ]
    }
   ],
   "source": [
    "# Actually, strings are a bit similar to lists, in that we can access individual letters with indices:\n",
    "print(\"Hello\"[3])"
   ]
  },
  {
   "cell_type": "markdown",
   "metadata": {},
   "source": [
    "## More on indices and strings"
   ]
  },
  {
   "cell_type": "code",
   "execution_count": 23,
   "metadata": {},
   "outputs": [
    {
     "name": "stdout",
     "output_type": "stream",
     "text": [
      "Hello world\n"
     ]
    }
   ],
   "source": [
    "# Python is actually very convenient to manipulate strings and lists\n",
    "# It allows addition:\n",
    "print(\"Hello\" + \" world\")"
   ]
  },
  {
   "cell_type": "code",
   "execution_count": 24,
   "metadata": {},
   "outputs": [
    {
     "name": "stdout",
     "output_type": "stream",
     "text": [
      "Atatatatatatatatatatatatatatata\n"
     ]
    }
   ],
   "source": [
    "# and multiplication:\n",
    "print(\"A\"+\"ta\"*15)"
   ]
  },
  {
   "cell_type": "code",
   "execution_count": 18,
   "metadata": {},
   "outputs": [
    {
     "name": "stdout",
     "output_type": "stream",
     "text": [
      "ello worl\n"
     ]
    }
   ],
   "source": [
    "# It has a concise syntax to select a substring:\n",
    "a = \"Hello world\"\n",
    "print(a[1:10]) # print characters from index 1 to 10"
   ]
  },
  {
   "cell_type": "code",
   "execution_count": 31,
   "metadata": {},
   "outputs": [
    {
     "name": "stdout",
     "output_type": "stream",
     "text": [
      "['I', 'think', 'this', 'is', 'going', 'to', 'be', 'cut', 'in', 'many', 'places']\n"
     ]
    }
   ],
   "source": [
    "# One of the most useful features is the ability to split a string in an array:\n",
    "a=\"I think this is going to be cut in many places\"\n",
    "# We specify we want to cut around the whitespace characters\n",
    "print(a.split(\" \"))  "
   ]
  },
  {
   "cell_type": "code",
   "execution_count": 32,
   "metadata": {},
   "outputs": [
    {
     "name": "stdout",
     "output_type": "stream",
     "text": [
      "['123', '5', '8', '0', '0', '2012-01-01', 'Taro', 'Johnson']\n"
     ]
    }
   ],
   "source": [
    "# It is useful when you receive data in a CSV format for instance:\n",
    "line = \"123,5,8,0,0,2012-01-01,Taro,Johnson\"\n",
    "lst = line.split(\",\")\n",
    "print(lst)"
   ]
  },
  {
   "cell_type": "code",
   "execution_count": 33,
   "metadata": {},
   "outputs": [
    {
     "name": "stdout",
     "output_type": "stream",
     "text": [
      "Taro\n"
     ]
    }
   ],
   "source": [
    "# You can then choose the field you find the most relevant \n",
    "print(lst[6])"
   ]
  },
  {
   "cell_type": "code",
   "execution_count": 34,
   "metadata": {},
   "outputs": [
    {
     "name": "stdout",
     "output_type": "stream",
     "text": [
      "T\n"
     ]
    }
   ],
   "source": [
    "# Of course you can nest these indices too:\n",
    "print(lst[6][0])"
   ]
  },
  {
   "cell_type": "code",
   "execution_count": 35,
   "metadata": {},
   "outputs": [
    {
     "data": {
      "text/plain": [
       "'T'"
      ]
     },
     "execution_count": 35,
     "metadata": {},
     "output_type": "execute_result"
    }
   ],
   "source": [
    "# Oh, and by the way, if you just type an expression, ipython assumes you want to print() it:\n",
    "lst[6][0]"
   ]
  },
  {
   "cell_type": "code",
   "execution_count": null,
   "metadata": {
    "collapsed": true
   },
   "outputs": [],
   "source": []
  }
 ],
 "metadata": {
  "kernelspec": {
   "display_name": "Python 3",
   "language": "python",
   "name": "python3"
  },
  "language_info": {
   "codemirror_mode": {
    "name": "ipython",
    "version": 3
   },
   "file_extension": ".py",
   "mimetype": "text/x-python",
   "name": "python",
   "nbconvert_exporter": "python",
   "pygments_lexer": "ipython3",
   "version": "3.5.3"
  }
 },
 "nbformat": 4,
 "nbformat_minor": 2
}
